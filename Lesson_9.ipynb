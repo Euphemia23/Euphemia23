{
  "nbformat": 4,
  "nbformat_minor": 0,
  "metadata": {
    "colab": {
      "name": "Lesson 9",
      "provenance": [],
      "collapsed_sections": [],
      "authorship_tag": "ABX9TyPuXlvc5EjRh3Ga3CCa5P+s",
      "include_colab_link": true
    },
    "kernelspec": {
      "name": "python3",
      "display_name": "Python 3"
    },
    "language_info": {
      "name": "python"
    }
  },
  "cells": [
    {
      "cell_type": "markdown",
      "metadata": {
        "id": "view-in-github",
        "colab_type": "text"
      },
      "source": [
        "<a href=\"https://colab.research.google.com/github/Euphemia23/Euphemia23/blob/main/Lesson_9.ipynb\" target=\"_parent\"><img src=\"https://colab.research.google.com/assets/colab-badge.svg\" alt=\"Open In Colab\"/></a>"
      ]
    },
    {
      "cell_type": "markdown",
      "source": [
        "# Assignment for lesson 9\n"
      ],
      "metadata": {
        "id": "QfvmfGtlkr4v"
      }
    },
    {
      "cell_type": "code",
      "source": [
        "\"\"\" Write a Python function to generate and print a dictionary that\n",
        " contains a number (between 1 and n) in the form (x, x**x).\"\"\"\n",
        "\n",
        "number = int(input(\"Enter a number: \"))\n",
        "numDict = {}\n",
        "\n",
        "for i in range(1, number + 1):\n",
        "    numDict[i] = i * i\n",
        "\n",
        "print(numDict)"
      ],
      "metadata": {
        "colab": {
          "base_uri": "https://localhost:8080/",
          "height": 0
        },
        "id": "zg-cBwcJk1vG",
        "outputId": "7c3f9910-6fcd-449b-d0f3-96c35542fdc2"
      },
      "execution_count": 3,
      "outputs": [
        {
          "output_type": "stream",
          "name": "stdout",
          "text": [
            "Enter a number: 2\n",
            "{1: 1, 2: 4}\n"
          ]
        }
      ]
    },
    {
      "cell_type": "code",
      "source": [
        "\"\"\"Write a function that takes a string and calculate the number of\n",
        "uppercase letters and lowercase letters\"\"\"\n",
        "\n",
        "# Method 1 without dictionary\n",
        "\n",
        "def upper_lower(string):\n",
        "    upper = 0\n",
        "    lower = 0\n",
        "    for i in string:\n",
        "        if i.isupper():\n",
        "            upper += 1\n",
        "        elif i.islower():\n",
        "            lower += 1\n",
        "    print(\"Upper case letters:\", upper)\n",
        "    print(\"Lower case letters:\", lower)\n",
        "\n",
        "upper_lower(\"Hello MaDeMoSeille, Meine NaME IST Favour\")"
      ],
      "metadata": {
        "colab": {
          "base_uri": "https://localhost:8080/",
          "height": 0
        },
        "id": "eRkGGAS9mQ_t",
        "outputId": "0f89a68c-eeb9-4d75-f871-8b19a69f90c9"
      },
      "execution_count": 4,
      "outputs": [
        {
          "output_type": "stream",
          "name": "stdout",
          "text": [
            "Upper case letters: 13\n",
            "Lower case letters: 22\n"
          ]
        }
      ]
    },
    {
      "cell_type": "code",
      "source": [
        "# Method 2 with dictionary\n",
        "\n",
        "def upper_lower_dict(string):\n",
        "    upper_lower_dict = {\"upper\": 0, \"lower\": 0}\n",
        "    for i in string:\n",
        "        if i.isupper():\n",
        "            upper_lower_dict[\"upper\"] += 1\n",
        "        elif i.islower():\n",
        "            upper_lower_dict[\"lower\"] += 1\n",
        "    print(\"Upper case letters:\", upper_lower_dict[\"upper\"])\n",
        "    print(\"Lower case letters:\", upper_lower_dict[\"lower\"])\n",
        "    print(upper_lower_dict)\n",
        "\n",
        "upper_lower_dict(\"Hello MaDeMoSeille, Meine NaME\")\n"
      ],
      "metadata": {
        "colab": {
          "base_uri": "https://localhost:8080/",
          "height": 0
        },
        "id": "5z6XPFEkn5rB",
        "outputId": "390576ed-8ee3-4919-b74e-86b74277b7be"
      },
      "execution_count": 6,
      "outputs": [
        {
          "output_type": "stream",
          "name": "stdout",
          "text": [
            "Upper case letters: 9\n",
            "Lower case letters: 17\n",
            "{'upper': 9, 'lower': 17}\n"
          ]
        }
      ]
    },
    {
      "cell_type": "code",
      "source": [
        "\"\"\" Write a function that takes a tuple of strings and a tuple of numbers,\n",
        "convert them into dictionary items (key, value pairs) and save it as a\n",
        "json file on your working directory and open it and return a dictionary\"\"\"\n",
        "\n",
        "import json\n",
        "\n",
        "def tuple_to_dict(tuple_strings, tuple_numbers):\n",
        "    dict_strings = {}\n",
        "    dict_numbers = {}\n",
        "    for i in range(len(tuple_strings)):\n",
        "        dict_strings[tuple_strings[i]] = tuple_numbers[i]\n",
        "    for i in range(len(tuple_numbers)):\n",
        "        dict_numbers[tuple_numbers[i]] = tuple_strings[i]\n",
        "    dict_final = {\"strings\": dict_strings, \"numbers\": dict_numbers}\n",
        "    with open(\"dict_final.json\", \"w\") as f:\n",
        "        json.dump(dict_final, f)\n",
        "    with open(\"dict_final.json\", \"r\") as f:\n",
        "        dict_final = json.load(f)\n",
        "    return dict_final\n",
        "    \n",
        "\n",
        "tupString = (\"One\", \"Two\", \"Three\", \"Four\", \"Five\", \"Six\", \"Seven\", \"Eight\", \n",
        "             \"Nine\", \"Ten\", \"Eleven\", \"Twelve\", \"Thirteen\", \"Fourteen\", \n",
        "             \"Fifteen\", \"Sixteen\", \"Seventeen\", \"Eighteen\", \"Nineteen\", \n",
        "             \"Twenty\")    \n",
        "tupNumber = (1, 2, 3, 4, 5, 6, 7, 8, 9, 10, 11, 12, 13, 14, 15, 16, 17, 18, \n",
        "             19, 20)\n",
        "\n",
        "print(tuple_to_dict(tupString, tupNumber))\n",
        "\n",
        "\n",
        "#To confirm the type of value retured by the function\n",
        "\n",
        "print(\"\\n\", type(tuple_to_dict(tupString, tupNumber)))\n"
      ],
      "metadata": {
        "colab": {
          "base_uri": "https://localhost:8080/",
          "height": 0
        },
        "id": "ZvIAXYQRpD1A",
        "outputId": "1be07d20-1410-499d-b9a6-c83867bc68dd"
      },
      "execution_count": 10,
      "outputs": [
        {
          "output_type": "stream",
          "name": "stdout",
          "text": [
            "{'strings': {'One': 1, 'Two': 2, 'Three': 3, 'Four': 4, 'Five': 5, 'Six': 6, 'Seven': 7, 'Eight': 8, 'Nine': 9, 'Ten': 10, 'Eleven': 11, 'Twelve': 12, 'Thirteen': 13, 'Fourteen': 14, 'Fifteen': 15, 'Sixteen': 16, 'Seventeen': 17, 'Eighteen': 18, 'Nineteen': 19, 'Twenty': 20}, 'numbers': {'1': 'One', '2': 'Two', '3': 'Three', '4': 'Four', '5': 'Five', '6': 'Six', '7': 'Seven', '8': 'Eight', '9': 'Nine', '10': 'Ten', '11': 'Eleven', '12': 'Twelve', '13': 'Thirteen', '14': 'Fourteen', '15': 'Fifteen', '16': 'Sixteen', '17': 'Seventeen', '18': 'Eighteen', '19': 'Nineteen', '20': 'Twenty'}}\n",
            "\n",
            " <class 'dict'>\n"
          ]
        }
      ]
    },
    {
      "cell_type": "code",
      "source": [
        ""
      ],
      "metadata": {
        "id": "ZJ8VBVra9_Fu"
      },
      "execution_count": null,
      "outputs": []
    }
  ]
}