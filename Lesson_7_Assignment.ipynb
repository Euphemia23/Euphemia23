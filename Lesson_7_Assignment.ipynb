{
  "nbformat": 4,
  "nbformat_minor": 0,
  "metadata": {
    "colab": {
      "name": "Lesson 7 Assignment",
      "provenance": [],
      "collapsed_sections": [],
      "authorship_tag": "ABX9TyNdfoCEskhT++fmYgri98I9",
      "include_colab_link": true
    },
    "kernelspec": {
      "name": "python3",
      "display_name": "Python 3"
    },
    "language_info": {
      "name": "python"
    }
  },
  "cells": [
    {
      "cell_type": "markdown",
      "metadata": {
        "id": "view-in-github",
        "colab_type": "text"
      },
      "source": [
        "<a href=\"https://colab.research.google.com/github/Euphemia23/Euphemia23/blob/main/Lesson_7_Assignment.ipynb\" target=\"_parent\"><img src=\"https://colab.research.google.com/assets/colab-badge.svg\" alt=\"Open In Colab\"/></a>"
      ]
    },
    {
      "cell_type": "markdown",
      "source": [
        "# Creating a list"
      ],
      "metadata": {
        "id": "vWmey1axGGF9"
      }
    },
    {
      "cell_type": "code",
      "source": [
        "# First import the random function\n",
        "\n",
        "import random\n",
        "\n",
        "# Initialise list\n",
        "\n",
        "numbered_List = []\n",
        "\n",
        "for number in range(0, 10):\n",
        "  numbers = random.randint(1,100)\n",
        "  numbered_List.append(numbers)\n",
        "\n",
        "print(numbered_List)"
      ],
      "metadata": {
        "colab": {
          "base_uri": "https://localhost:8080/"
        },
        "id": "kUZ9OZaeCjK0",
        "outputId": "915f7c8a-bbec-4eee-ea3d-b85ae911b23b"
      },
      "execution_count": null,
      "outputs": [
        {
          "output_type": "stream",
          "name": "stdout",
          "text": [
            "[19, 32, 49, 80, 60, 85, 52, 1, 16, 1]\n"
          ]
        }
      ]
    },
    {
      "cell_type": "markdown",
      "source": [
        "# Sum the generated number"
      ],
      "metadata": {
        "id": "HcwKR6PdKtqo"
      }
    },
    {
      "cell_type": "code",
      "source": [
        "summation = sum(numbered_List)\n",
        "print(summation)"
      ],
      "metadata": {
        "colab": {
          "base_uri": "https://localhost:8080/"
        },
        "id": "n67MLJG8K0ua",
        "outputId": "7227e018-82b8-4f40-a4b5-1137bcc39f3a"
      },
      "execution_count": null,
      "outputs": [
        {
          "output_type": "stream",
          "name": "stdout",
          "text": [
            "395\n"
          ]
        }
      ]
    },
    {
      "cell_type": "markdown",
      "source": [
        "# Max and Min number"
      ],
      "metadata": {
        "id": "caQOKwViMpUd"
      }
    },
    {
      "cell_type": "code",
      "source": [
        "Maximum = max(numbered_List)\n",
        "minimum = min(numbered_List)\n",
        "\n",
        "print(Maximum)\n",
        "print(minimum)"
      ],
      "metadata": {
        "colab": {
          "base_uri": "https://localhost:8080/"
        },
        "id": "tYF0WY0PNNmQ",
        "outputId": "d25b3bc6-8cf1-44b2-b840-0f42a877fed7"
      },
      "execution_count": null,
      "outputs": [
        {
          "output_type": "stream",
          "name": "stdout",
          "text": [
            "85\n",
            "1\n"
          ]
        }
      ]
    },
    {
      "cell_type": "code",
      "source": [
        "# Alternate solution\n",
        "\n",
        "numbered_List.sort()\n",
        "\n",
        "print(numbered_List)\n",
        "\n",
        "print(numbered_List[0])\n",
        "\n",
        "print(numbered_List[-1])"
      ],
      "metadata": {
        "colab": {
          "base_uri": "https://localhost:8080/"
        },
        "id": "u9jwCwM4N4mA",
        "outputId": "67b1bc51-17b9-40e4-997c-64b937b40876"
      },
      "execution_count": null,
      "outputs": [
        {
          "output_type": "stream",
          "name": "stdout",
          "text": [
            "[1, 1, 16, 19, 32, 49, 52, 60, 80, 85]\n",
            "1\n",
            "85\n"
          ]
        }
      ]
    },
    {
      "cell_type": "markdown",
      "source": [
        "# Reverse List"
      ],
      "metadata": {
        "id": "5NnZBRMsO5Sd"
      }
    },
    {
      "cell_type": "code",
      "source": [
        "print(numbered_List[::-1])"
      ],
      "metadata": {
        "colab": {
          "base_uri": "https://localhost:8080/"
        },
        "id": "peeTyonNPHSd",
        "outputId": "9ec8cc5b-e192-488c-e4cb-c13f7356f2df"
      },
      "execution_count": null,
      "outputs": [
        {
          "output_type": "stream",
          "name": "stdout",
          "text": [
            "[85, 80, 60, 52, 49, 32, 19, 16, 1, 1]\n"
          ]
        }
      ]
    }
  ]
}