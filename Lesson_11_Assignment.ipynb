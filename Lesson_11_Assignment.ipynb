{
  "nbformat": 4,
  "nbformat_minor": 0,
  "metadata": {
    "colab": {
      "name": "Lesson 11 Assignment",
      "provenance": [],
      "authorship_tag": "ABX9TyNPV4tMwA0gqrHGPKQ7eOGD",
      "include_colab_link": true
    },
    "kernelspec": {
      "name": "python3",
      "display_name": "Python 3"
    },
    "language_info": {
      "name": "python"
    }
  },
  "cells": [
    {
      "cell_type": "markdown",
      "metadata": {
        "id": "view-in-github",
        "colab_type": "text"
      },
      "source": [
        "<a href=\"https://colab.research.google.com/github/Euphemia23/Euphemia23/blob/main/Lesson_11_Assignment.ipynb\" target=\"_parent\"><img src=\"https://colab.research.google.com/assets/colab-badge.svg\" alt=\"Open In Colab\"/></a>"
      ]
    },
    {
      "cell_type": "markdown",
      "source": [
        "# write a program that accepts a number from a user and stores first 10 multiples of that number in a tuple"
      ],
      "metadata": {
        "id": "PCwxAgE4dBDP"
      }
    },
    {
      "cell_type": "code",
      "source": [
        "# Take user input and store it in a variable\n",
        "numbr = int(input(\"Enter a number: \"))\n",
        "\n",
        "# Initialize an empty tuple\n",
        "tup = ()\n",
        "\n",
        "# Loop through the range of 1 to 10 and append the result to the tuple\n",
        "for i in range(1,11):\n",
        "    # Append the result to the tuple\n",
        "    tup = tup + (numbr*i,)\n",
        "# Print the tuple\n",
        "print(tup)"
      ],
      "metadata": {
        "colab": {
          "base_uri": "https://localhost:8080/"
        },
        "id": "FLECpvq3dMi0",
        "outputId": "46717e98-4768-4e06-b70d-1df7c5208cdd"
      },
      "execution_count": 1,
      "outputs": [
        {
          "output_type": "stream",
          "name": "stdout",
          "text": [
            "Enter a number: 6\n",
            "(6, 12, 18, 24, 30, 36, 42, 48, 54, 60)\n"
          ]
        }
      ]
    },
    {
      "cell_type": "code",
      "source": [
        "# Doing the same as a function that returns a tuple\n",
        "\n",
        "def tup():\n",
        "    numbr = int(input(\"Enter a number: \"))\n",
        "    tup = ()\n",
        "    for i in range(1,11):\n",
        "        tup = tup + (numbr*i,)\n",
        "    return tup\n",
        "\n",
        "number = tup()\n",
        "\n",
        "print(number)"
      ],
      "metadata": {
        "colab": {
          "base_uri": "https://localhost:8080/"
        },
        "id": "AGfUnDVZdySe",
        "outputId": "6c6bd5ce-8110-42e0-cc5b-ea9a7aadfeb2"
      },
      "execution_count": 2,
      "outputs": [
        {
          "output_type": "stream",
          "name": "stdout",
          "text": [
            "Enter a number: 8\n",
            "(8, 16, 24, 32, 40, 48, 56, 64, 72, 80)\n"
          ]
        }
      ]
    },
    {
      "cell_type": "markdown",
      "source": [
        "# Write a program that concatenates all entries from a tupple into a single string and displays the result"
      ],
      "metadata": {
        "id": "NNaqZXG_eMrU"
      }
    },
    {
      "cell_type": "code",
      "source": [
        "# Declaring variables\n",
        "\n",
        "input_tup = (\"Hello\", \"World\", \"!\")\n",
        "output_str = \"\"\n",
        "\n",
        "for i in input_tup:\n",
        "    output_str = output_str + i\n",
        "print(output_str)"
      ],
      "metadata": {
        "colab": {
          "base_uri": "https://localhost:8080/"
        },
        "id": "8tyz_V9qeRNF",
        "outputId": "49f51b7c-a70c-470f-f495-c11f35d7b328"
      },
      "execution_count": 3,
      "outputs": [
        {
          "output_type": "stream",
          "name": "stdout",
          "text": [
            "HelloWorld!\n"
          ]
        }
      ]
    },
    {
      "cell_type": "code",
      "source": [
        "#  to concatenate non-string entries\n",
        "# convert all tupple entries to list string\n",
        "\n",
        "tup = (\"Hello\", \"World\", \"!\", 1, 10)\n",
        "print (\"The original tupple is: \", tup)\n",
        "list = []\n",
        "\n",
        "# Loop through the tupple and append each entry to the list as a string\n",
        "for i in tup:\n",
        "    list.append(str(i))\n",
        "\n",
        "# convert list to tupple\n",
        "tup = tuple(list)\n",
        "\n",
        "print(\"The tupple is: \", tup)\n",
        "\n",
        "output_str = \"\"\n",
        "\n",
        "for i in tup:\n",
        "    output_str = output_str + i\n",
        "\n",
        "print(\"\\n\", output_str)"
      ],
      "metadata": {
        "colab": {
          "base_uri": "https://localhost:8080/"
        },
        "id": "-ummmhqNgNWm",
        "outputId": "185ce3b9-1616-4c05-fab5-08fc82e6ad9c"
      },
      "execution_count": 13,
      "outputs": [
        {
          "output_type": "stream",
          "name": "stdout",
          "text": [
            "The original tupple is:  ('Hello', 'World', '!', 1, 10)\n",
            "The tupple is:  ('Hello', 'World', '!', '1', '10')\n",
            "\n",
            " HelloWorld!110\n"
          ]
        }
      ]
    }
  ]
}