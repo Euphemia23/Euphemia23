{
  "nbformat": 4,
  "nbformat_minor": 0,
  "metadata": {
    "colab": {
      "name": "Redi School Lesson 5",
      "provenance": [],
      "authorship_tag": "ABX9TyP0Nfh8uv2RiUxlVBWqZ3jq",
      "include_colab_link": true
    },
    "kernelspec": {
      "name": "python3",
      "display_name": "Python 3"
    },
    "language_info": {
      "name": "python"
    }
  },
  "cells": [
    {
      "cell_type": "markdown",
      "metadata": {
        "id": "view-in-github",
        "colab_type": "text"
      },
      "source": [
        "<a href=\"https://colab.research.google.com/github/Euphemia23/Euphemia23/blob/main/Redi_School_Lesson_5.ipynb\" target=\"_parent\"><img src=\"https://colab.research.google.com/assets/colab-badge.svg\" alt=\"Open In Colab\"/></a>"
      ]
    },
    {
      "cell_type": "markdown",
      "source": [
        "# Lesson 5 Assignment\n"
      ],
      "metadata": {
        "id": "89ZQzWJbkErz"
      }
    },
    {
      "cell_type": "markdown",
      "source": [
        "## With maths module"
      ],
      "metadata": {
        "id": "ksrWNA0Yrszi"
      }
    },
    {
      "cell_type": "code",
      "source": [
        "import math\n",
        "\n",
        "def exp_numbers(x, y):\n",
        "  return pow(x, y)\n",
        "\n",
        "exp_numbers(2, 5)"
      ],
      "metadata": {
        "colab": {
          "base_uri": "https://localhost:8080/"
        },
        "id": "ddGLKS6UkMmz",
        "outputId": "12a11be0-154f-4929-ab0c-d5c464a6d462"
      },
      "execution_count": 26,
      "outputs": [
        {
          "output_type": "execute_result",
          "data": {
            "text/plain": [
              "0.5"
            ]
          },
          "metadata": {},
          "execution_count": 26
        }
      ]
    },
    {
      "cell_type": "markdown",
      "source": [
        "## Function with two arguments"
      ],
      "metadata": {
        "id": "EUGKq9e6r6mB"
      }
    },
    {
      "cell_type": "code",
      "source": [
        "def exp_numbers(x, y):\n",
        "  return (x ** y)\n",
        "\n",
        "exp_numbers(2, 5)"
      ],
      "metadata": {
        "colab": {
          "base_uri": "https://localhost:8080/"
        },
        "id": "gkMoFucisC3f",
        "outputId": "99ff84c6-b75e-40f1-b98f-de061f3a9361"
      },
      "execution_count": 24,
      "outputs": [
        {
          "output_type": "execute_result",
          "data": {
            "text/plain": [
              "1"
            ]
          },
          "metadata": {},
          "execution_count": 24
        }
      ]
    },
    {
      "cell_type": "markdown",
      "source": [
        "## Recursive method"
      ],
      "metadata": {
        "id": "bB4Xm4Mgsmmu"
      }
    },
    {
      "cell_type": "code",
      "source": [
        "def exp_numbers(x, y):\n",
        "\n",
        "  if y == 0:\n",
        "    return 1\n",
        "\n",
        "  if y >= 1:\n",
        "    return x * exp_numbers(x, y - 1)\n",
        "\n",
        "exp_numbers(2, 5)"
      ],
      "metadata": {
        "colab": {
          "base_uri": "https://localhost:8080/"
        },
        "id": "Lbi45gXvssCf",
        "outputId": "867bdd2a-58ed-4707-c2c7-105fe37963d2"
      },
      "execution_count": 34,
      "outputs": [
        {
          "output_type": "execute_result",
          "data": {
            "text/plain": [
              "32"
            ]
          },
          "metadata": {},
          "execution_count": 34
        }
      ]
    },
    {
      "cell_type": "code",
      "source": [
        "def calculator():\n",
        "\n",
        "  print('Enter first number \\n')\n",
        "  x = int(input())\n",
        "\n",
        "  print(\"Which operation do you wantto perform \\n\")\n",
        "  print(\"'+' for addition \\n\")\n",
        "  print(\"'-' for minus \\n\")\n",
        "  print(\"'*' for Multiplication \\n\")\n",
        "  print(\"'/' for Division \\n\")\n",
        "  operation = input('')\n",
        "\n",
        "  print('Enter Second number \\n')\n",
        "  y = int(input())\n",
        "\n",
        "  if operation == '+':\n",
        "    print('Your result = {} \\n' .format(x + y))\n",
        "  \n",
        "  elif operation == '-':\n",
        "    print('Your result = {} \\n' .format(x - y))\n",
        "\n",
        "  elif operation == '*':\n",
        "    print('Your result = {} \\n' .format(x * y))\n",
        "\n",
        "  elif operation == '/':\n",
        "    print('Your result = {} \\n' .format(x / y))\n",
        "    \n",
        "  else: print(\"Wrong operation selected\")\n",
        "\n",
        "\n",
        "\n",
        "calculator()\n",
        "\n",
        "\n"
      ],
      "metadata": {
        "colab": {
          "base_uri": "https://localhost:8080/"
        },
        "id": "2ymTz9_XtVaS",
        "outputId": "f1928ac0-4646-4be8-a47f-f9070d86dcef"
      },
      "execution_count": 42,
      "outputs": [
        {
          "output_type": "stream",
          "name": "stdout",
          "text": [
            "Enter first number \n",
            "\n",
            "5\n",
            "Which operation do you wantto perform \n",
            "\n",
            "'+' for addition \n",
            "\n",
            "'-' for minus \n",
            "\n",
            "'*' for Multiplication \n",
            "\n",
            "'/' for Division \n",
            "\n",
            "+\n",
            "Enter Second number \n",
            "\n",
            "5\n",
            "Your result = 10 \n",
            "\n"
          ]
        }
      ]
    },
    {
      "cell_type": "code",
      "source": [
        ""
      ],
      "metadata": {
        "id": "dRNrteDp0fhm"
      },
      "execution_count": null,
      "outputs": []
    }
  ]
}